{
 "cells": [
  {
   "cell_type": "code",
   "execution_count": null,
   "id": "66a74000-25a9-47c2-8bd6-bf7bfd795f94",
   "metadata": {},
   "outputs": [],
   "source": [
    "import pyautogui as pag\n",
    "import pandas as pd\n",
    "import time as time"
   ]
  },
  {
   "cell_type": "code",
   "execution_count": null,
   "id": "9f040469",
   "metadata": {},
   "outputs": [],
   "source": [
    "import sys\n",
    "sys.executable"
   ]
  },
  {
   "cell_type": "code",
   "execution_count": null,
   "id": "ae9197f9-286e-4e84-872c-4f0c5b9f7b08",
   "metadata": {},
   "outputs": [],
   "source": [
    "#Váriaveis de ambiente\n",
    "link = \"https://dlp.hashtagtreinamentos.com/python/intensivao/login\"\n",
    "pag.pause = 0.1\n",
    "table = pd.read_csv(\"produtos.csv\")"
   ]
  },
  {
   "cell_type": "code",
   "execution_count": null,
   "id": "e745dc1d-d760-48f6-a9bb-24a1d001f9e5",
   "metadata": {},
   "outputs": [],
   "source": [
    "# Passo 1: Entrar no sistema da empresa \n",
    "# abrir o navegador (Firefox)pythonimpressionador@gmail.com sua senha\n",
    "pag.press(\"win\")\n",
    "pag.write(\"edge\")\n",
    "pag.press(\"enter\")\n",
    "time.sleep(1)\n",
    "\n",
    "# entrar no link \n",
    "pag.write(link)\n",
    "pag.press(\"enter\")\n",
    "time.sleep(3)\n",
    "\n",
    "# Passo 2: Fazer login\n",
    "# selecionar o campo de email\n",
    "pag.click(x=776, y=393)\n",
    "# escrever o seu email\n",
    "pag.write(\"pythonimpressionador@gmail.com\")\n",
    "pag.press(\"tab\") \n",
    "pag.write(\"sua senha\")\n",
    "# clique no botao de login\n",
    "pag.click(x=975, y=544) \n",
    "time.sleep(3)\n",
    "\n",
    "# Passo 3: Cadastrar um produto\n",
    "for linha in table.index:\n",
    "    # clicar no campo de código\n",
    "    pag.click(x=788, y=273)\n",
    "    # pegar da tabela o valor do campo que a gente quer preencher\n",
    "    codigo = table.loc[linha, \"codigo\"]\n",
    "    # preencher o campo\n",
    "    pag.write(str(codigo))\n",
    "    # passar para o proximo campo\n",
    "    pag.press(\"tab\")\n",
    "    # preencher o campo\n",
    "    pag.write(str(table.loc[linha, \"marca\"]))\n",
    "    pag.press(\"tab\")\n",
    "    pag.write(str(table.loc[linha, \"tipo\"]))\n",
    "    pag.press(\"tab\")\n",
    "    pag.write(str(table.loc[linha, \"categoria\"]))\n",
    "    pag.press(\"tab\")\n",
    "    pag.write(str(table.loc[linha, \"preco_unitario\"]))\n",
    "    pag.press(\"tab\")\n",
    "    pag.write(str(table.loc[linha, \"custo\"]))\n",
    "    pag.press(\"tab\")\n",
    "    \n",
    "    obs = table.loc[linha, \"obs\"]\n",
    "    if not pd.isna(obs):\n",
    "        pag.write(str(table.loc[linha, \"obs\"]))\n",
    "    pag.press(\"tab\")\n",
    "    # cadastra o produto (botao enviar)\n",
    "    pag.press(\"enter\")\n",
    "    # dar scroll de tudo pra cima\n",
    "    pag.scroll(5000)\n",
    "    \n",
    "    # Passo 5: Repetir o processo de cadastro até o fim (For)"
   ]
  }
 ],
 "metadata": {
  "kernelspec": {
   "display_name": "Python 3 (ipykernel)",
   "language": "python",
   "name": "python3"
  },
  "language_info": {
   "codemirror_mode": {
    "name": "ipython",
    "version": 3
   },
   "file_extension": ".py",
   "mimetype": "text/x-python",
   "name": "python",
   "nbconvert_exporter": "python",
   "pygments_lexer": "ipython3",
   "version": "3.12.2"
  }
 },
 "nbformat": 4,
 "nbformat_minor": 5
}
