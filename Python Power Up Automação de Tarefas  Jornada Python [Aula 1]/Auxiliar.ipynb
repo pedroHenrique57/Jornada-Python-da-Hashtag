{
 "cells": [
  {
   "cell_type": "code",
   "execution_count": null,
   "id": "b7b222aa-516c-4279-8a43-e0b6971e5961",
   "metadata": {},
   "outputs": [],
   "source": [
    "import pyautogui as pag\n",
    "import time as time"
   ]
  },
  {
   "cell_type": "code",
   "execution_count": null,
   "id": "26a7fdc2-d1fc-492b-9deb-6b1afb575f42",
   "metadata": {},
   "outputs": [],
   "source": [
    "#Pega a localização do ponteiro do mouse\n",
    "time.sleep(2)\n",
    "print(pag.position())"
   ]
  }
 ],
 "metadata": {
  "kernelspec": {
   "display_name": "Python 3 (ipykernel)",
   "language": "python",
   "name": "python3"
  },
  "language_info": {
   "codemirror_mode": {
    "name": "ipython",
    "version": 3
   },
   "file_extension": ".py",
   "mimetype": "text/x-python",
   "name": "python",
   "nbconvert_exporter": "python",
   "pygments_lexer": "ipython3",
   "version": "3.12.2"
  }
 },
 "nbformat": 4,
 "nbformat_minor": 5
}
